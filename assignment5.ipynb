{
 "cells": [
  {
   "cell_type": "markdown",
   "metadata": {},
   "source": [
   1. "write a python program to find the area of a circle using math function"
   ]
  },
  {
   "cell_type": "code",
   "execution_count": 2,
   "metadata": {},
   "outputs": [
    {
     "name": "stdout",
     "output_type": "stream",
     "text": [
      "5\n",
      "78.53981633974483\n"
     ]
    }
   ],
   "source": [
    "import math as m\n",
    "r=int(input())\n",
    "print(m.pi*r*r)"
   ]
  },
  {
   "cell_type": "markdown",
   "metadata": {},
   "source": [
    2." write a python program to find area of a regular polygon using math function"
   ]
  },
  {
   "cell_type": "code",
   "execution_count": 3,
   "metadata": {},
   "outputs": [
    {
     "name": "stdout",
     "output_type": "stream",
     "text": [
      "number of sides4\n",
      "length of a side:20\n",
      "area: 400.00000000000006\n"
     ]
    }
   ],
   "source": [
    "from math import tan,pi\n",
    "n_sides=int(input(\"number of sides\"))\n",
    "s_length=float(input(\"length of a side:\"))\n",
    "print(\"area:\",n_sides*(s_length**2)/(4*tan(pi/n_sides)))"
   ]
  },
  {
   "cell_type": "markdown",
   "metadata": {},
   "source": [
    3."write a python program to find area of a segment of a circle formula using math function"
   ]
  },
  {
   "cell_type": "code",
   "execution_count": 4,
   "metadata": {},
   "outputs": [
    {
     "name": "stdout",
     "output_type": "stream",
     "text": [
      "enter radius:9\n",
      "enter angle:60\n",
      "area of a segment of circle is: 42.411500823462205\n"
     ]
    }
   ],
   "source": [
    "import math as m\n",
    "r=int(input(\"enter radius:\"))\n",
    "a=int(input(\"enter angle:\"))\n",
    "print(\"area of a segment of circle is:\",(m.pi*r*r)*(a/360))"
   ]
  },
  {
   "cell_type": "markdown",
   "metadata": {},
   "source": [
    4."write a python program to shuffle a list,l1=[100,1,2,3,30,40,\"hai\",\"hello]"
   ]
  },
  {
   "cell_type": "code",
   "execution_count": 7,
   "metadata": {},
   "outputs": [
    {
     "name": "stdout",
     "output_type": "stream",
     "text": [
      "[3, 'hai', 100, 40, 2, 1, 'hello', 30]\n"
     ]
    }
   ],
   "source": [
    "import random as r\n",
    "l1=[100,1,2,3,30,40,\"hai\",\"hello\"]\n",
    "r.shuffle(l1)\n",
    "print(l1)"
   ]
  },
  {
   "cell_type": "markdown",
   "metadata": {},
   "source": [
    "5.\tWrite a program to generate random numbers between 1,10000 and difference between each random number is 50."
   ]
  },
  {
   "cell_type": "code",
   "execution_count": 5,
   "metadata": {},
   "outputs": [
    {
     "name": "stdout",
     "output_type": "stream",
     "text": [
      "[101, 8801, 7101, 4401, 501, 3151, 8401, 7201, 451, 4751, 1601, 2501, 1551, 8201, 5401, 2851, 1701, 6051, 351, 6151, 3751, 9551, 7451, 4051, 601, 1951, 4201, 8951, 4301, 2251, 5201, 2801, 8001, 2951, 9451, 5401, 5401, 1251, 4101, 3001, 151, 3401, 8751, 1551, 3351, 8201, 3851, 8451, 5601, 6901, 6151, 9701, 6501, 2401, 1251, 4451, 9301, 1751, 501, 4251, 2151, 8751, 1251, 5301, 4351, 2201, 6851, 1851, 3301, 2851, 3701, 4401, 3201, 6151, 2501, 2251, 1901, 6701, 4451, 4151, 7401, 3001, 4501, 7401, 2151, 6551, 5251, 4301, 3901, 3751, 8651, 6201, 3601, 1451, 7001, 7451, 3551, 3551, 6501, 1451, 6051, 651, 7751, 1, 6551, 3001, 1351, 5251, 1401, 8351, 801, 6251, 3301, 5851, 901, 8401, 9701, 6401, 3201, 8901, 8501, 2001, 9701, 9701, 251, 5651, 1901, 51, 4851, 7201, 601, 2251, 4401, 6401, 9351, 1351, 4801, 6001, 701, 2751, 6651, 3651, 5401, 3251, 3751, 6551, 2951, 851, 951, 6301, 6651, 3701, 4201, 8601, 6401, 8701, 501, 1551, 6301, 451, 9901, 7201, 9501, 3401, 9501, 6501, 251, 7301, 9951, 8551, 7351, 4151, 5901, 1551, 8351, 8101, 8651, 4251, 751, 9001, 1801, 651, 3251, 9851, 9051, 7601, 2351, 5551, 2351, 7851, 1751, 1701, 1001, 9351, 6801, 1801, 8851, 5551, 1351, 3301]\n"
     ]
    }
   ],
   "source": [
    "import random\n",
    "l=[]\n",
    "i=1\n",
    "while i in range(1,10000):\n",
    "    l.append(random.randrange(1,10000,50))\n",
    "    i+=50\n",
    "\n",
    "    print(l)"
   ]
  },
  {
   "cell_type": "markdown",
   "metadata": {},
   "source": [
    "6.\tWrite a python program by using math module to find\n",
    "i.\tSin600\n",
    "ii.\tcos(pi)\n",
    "iii.\ttan900\n",
    "iv.\tangle of sin(0.8660254037844386)\n",
    "v.\t5^8\n",
    "vi.\tSquare root of 400\n",
    "vii.\tThe value of 5^e\n",
    "viii.\tThe value of Log(1024), base 2\n",
    "ix.\tThe value of Log(1024), base 10\n",
    "x.\tThe Floor and Ceiling value of 23.56 "
   ]
  },
  {
   "cell_type": "code",
   "execution_count": 7,
   "metadata": {},
   "outputs": [
    {
     "name": "stdout",
     "output_type": "stream",
     "text": [
      "0.044182448331873195\n",
      "-1.0\n",
      "15.061931254510103\n",
      "0.7617599814162892\n",
      "390625\n",
      "20.0\n",
      "148.41315910257657\n",
      "10.0\n",
      "3.010299956639812\n",
      "23\n",
      "24\n"
     ]
    }
   ],
   "source": [
    "import math as m\n",
    "print(m.sin(600))\n",
    "print(m.cos(m.pi))\n",
    "print(m.tan(900))\n",
    "print(m.sin(0.8660254037844386))\n",
    "print(5**8)\n",
    "print(m.sqrt(400))\n",
    "print(m.e**5)\n",
    "print(m.log2(1024))\n",
    "print(m.log10(1024))\n",
    "print(m.floor(23.56))\n",
    "print(m.ceil(23.56))\n"
   ]
  }
 ],
 "metadata": {
  "kernelspec": {
   "display_name": "Python 3",
   "language": "python",
   "name": "python3"
  },
  "language_info": {
   "codemirror_mode": {
    "name": "ipython",
    "version": 3
   },
   "file_extension": ".py",
   "mimetype": "text/x-python",
   "name": "python",
   "nbconvert_exporter": "python",
   "pygments_lexer": "ipython3",
   "version": "3.7.6"
  }
 },
 "nbformat": 4,
 "nbformat_minor": 4
}
